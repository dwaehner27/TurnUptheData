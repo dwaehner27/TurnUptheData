{
 "cells": [
  {
   "cell_type": "code",
   "execution_count": 3,
   "metadata": {},
   "outputs": [],
   "source": [
    "# Dependencies\n",
    "import matplotlib.pyplot as plt\n",
    "import numpy as np\n",
    "import pandas as pd\n",
    "\n",
    "# Import CSVs\n",
    "artist_df = pd.read_csv('Resources/data_by_artist.csv')\n",
    "genres_df = pd.read_csv('Resources/data_by_genres.csv')\n",
    "year_df = pd.read_csv('Resources/data_by_year.csv')\n",
    "with_genres_df = pd.read_csv('Resources/data_w_genres.csv')\n",
    "overall_df = pd.read_csv('Resources/data.csv')\n"
   ]
  },
  {
   "cell_type": "code",
   "execution_count": null,
   "metadata": {},
   "outputs": [],
   "source": []
  }
 ],
 "metadata": {
  "kernelspec": {
   "display_name": "Python 3",
   "language": "python",
   "name": "python3"
  },
  "language_info": {
   "codemirror_mode": {
    "name": "ipython",
    "version": 3
   },
   "file_extension": ".py",
   "mimetype": "text/x-python",
   "name": "python",
   "nbconvert_exporter": "python",
   "pygments_lexer": "ipython3",
   "version": "3.8.5"
  }
 },
 "nbformat": 4,
 "nbformat_minor": 4
}
